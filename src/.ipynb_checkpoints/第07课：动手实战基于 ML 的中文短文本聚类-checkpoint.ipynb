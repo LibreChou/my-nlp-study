{
 "cells": [
  {
   "cell_type": "markdown",
   "metadata": {},
   "source": [
    "第07课：动手实战基于 ML 的中文短文本聚类"
   ]
  },
  {
   "cell_type": "markdown",
   "metadata": {},
   "source": [
    "整个过程分为以下几个步骤：\n",
    "\n",
    "* 语料加载\n",
    "* 分词\n",
    "* 去停用词\n",
    "* 抽取词向量特征\n",
    "* 实战 TF-IDF 的中文文本 K-means 聚类\n",
    "* 实战 word2Vec 的中文文本 K-means 聚类"
   ]
  },
  {
   "cell_type": "code",
   "execution_count": 1,
   "metadata": {
    "collapsed": true
   },
   "outputs": [],
   "source": [
    "import random\n",
    "import jieba\n",
    "import pandas as pd\n",
    "import numpy as np\n",
    "from sklearn.feature_extraction.text import TfidfTransformer\n",
    "from sklearn.feature_extraction.text import TfidfVectorizer\n",
    "import matplotlib.pyplot as plt\n",
    "from sklearn.decomposition import PCA\n",
    "from sklearn.cluster import KMeans\n",
    "import gensim\n",
    "from gensim.models import Word2Vec\n",
    "from sklearn.preprocessing import scale\n",
    "import multiprocessing"
   ]
  },
  {
   "cell_type": "code",
   "execution_count": 2,
   "metadata": {
    "collapsed": true
   },
   "outputs": [],
   "source": [
    "#加载停用词\n",
    "stopwords=pd.read_csv('stopwords.txt',index_col=False,quoting=3,sep=\"\\t\",names=['stopword'], encoding='utf-8')\n",
    "stopwords=stopwords['stopword'].values"
   ]
  },
  {
   "cell_type": "code",
   "execution_count": 3,
   "metadata": {
    "collapsed": true
   },
   "outputs": [],
   "source": [
    "#加载语料\n",
    "laogong_df = pd.read_csv('../data/07/beilaogongda.csv', encoding='utf-8', sep=',')\n",
    "laopo_df = pd.read_csv('../data/07/beilaogongda.csv', encoding='utf-8', sep=',')\n",
    "erzi_df = pd.read_csv('../data/07/beierzida.csv', encoding='utf-8', sep=',')\n",
    "nver_df = pd.read_csv('../data/07/beinverda.csv', encoding='utf-8', sep=',')\n",
    "#删除语料的nan行\n",
    "laogong_df.dropna(inplace=True)\n",
    "laopo_df.dropna(inplace=True)\n",
    "erzi_df.dropna(inplace=True)\n",
    "nver_df.dropna(inplace=True)\n",
    "#转换\n",
    "laogong = laogong_df.segment.values.tolist()\n",
    "laopo = laopo_df.segment.values.tolist()\n",
    "erzi = erzi_df.segment.values.tolist()\n",
    "nver = nver_df.segment.values.tolist()"
   ]
  },
  {
   "cell_type": "code",
   "execution_count": 4,
   "metadata": {
    "collapsed": true
   },
   "outputs": [],
   "source": [
    "#定义分词函数preprocess_text\n",
    "#参数content_lines即为上面转换的list\n",
    "#参数sentences是定义的空list，用来储存分词后的数据\n",
    "\n",
    "def preprocess_text(content_lines, sentences):\n",
    "    for line in content_lines:\n",
    "        try:\n",
    "            segs=jieba.lcut(line)\n",
    "            segs = [v for v in segs if not str(v).isdigit()]#去数字\n",
    "            segs = list(filter(lambda x:x.strip(), segs))   #去左右空格\n",
    "            segs = list(filter(lambda x:len(x)>1, segs)) #长度为1的字符\n",
    "            segs = list(filter(lambda x:x not in stopwords, segs)) #去掉停用词\n",
    "            sentences.append(\" \".join(segs))\n",
    "        except Exception:\n",
    "            print(line)\n",
    "            continue "
   ]
  },
  {
   "cell_type": "code",
   "execution_count": 5,
   "metadata": {},
   "outputs": [
    {
     "name": "stderr",
     "output_type": "stream",
     "text": [
      "Building prefix dict from the default dictionary ...\n",
      "Loading model from cache /var/folders/yw/k7z_d_3567g16ss9plk47x9w0000gn/T/jieba.cache\n",
      "Loading model cost 0.694 seconds.\n",
      "Prefix dict has been built succesfully.\n"
     ]
    }
   ],
   "source": [
    "sentences = []\n",
    "preprocess_text(laogong, sentences)\n",
    "preprocess_text(laopo, sentences)\n",
    "preprocess_text(erzi, sentences)\n",
    "preprocess_text(nver, sentences)"
   ]
  },
  {
   "cell_type": "code",
   "execution_count": 6,
   "metadata": {
    "collapsed": true
   },
   "outputs": [],
   "source": [
    "# 将得到的数据集打散，生成更可靠的训练集分布，避免同类数据分布不均匀\n",
    "random.shuffle(sentences)"
   ]
  },
  {
   "cell_type": "code",
   "execution_count": 10,
   "metadata": {},
   "outputs": [
    {
     "name": "stdout",
     "output_type": "stream",
     "text": [
      "报警 人称 儿子 人伤 无需 救护 民警 到场\n",
      "家暴 老公 持械 人伤 无需 救护 民警 到场\n",
      "报警 人称 疑似 丈夫 民警 到场\n",
      "报警 老公 凳子 人伤 无需 民警 到场 民警 携带 防护 装备\n",
      "家暴 老公 持械 民警 到场\n",
      "报警 人称 老公 民警 到场\n",
      "报警 人称 老公 持械 民警 到场\n",
      "报警 女儿 人伤 无需 救护 民警 到场 民警\n",
      "报警 女儿 人伤 牙齿 出血 民警 到场\n",
      "报警 老公 老公 醉酒 人未伤\n"
     ]
    }
   ],
   "source": [
    "for sentence in sentences[:10]:\n",
    "    print(sentence)"
   ]
  },
  {
   "cell_type": "markdown",
   "metadata": {},
   "source": [
    "抽取特征，将文本中的词语转换为词频矩阵，统计每个词语的 tf-idf 权值，获得词在对应文本中的 tf-idf 权重："
   ]
  },
  {
   "cell_type": "code",
   "execution_count": 11,
   "metadata": {},
   "outputs": [
    {
     "name": "stdout",
     "output_type": "stream",
     "text": [
      "Features length: 387\n"
     ]
    },
    {
     "name": "stderr",
     "output_type": "stream",
     "text": [
      "/Users/zhangjianfeng/anaconda3/lib/python3.6/site-packages/sklearn/feature_extraction/text.py:1089: FutureWarning: Conversion of the second argument of issubdtype from `float` to `np.floating` is deprecated. In future, it will be treated as `np.float64 == np.dtype(float).type`.\n",
      "  if hasattr(X, 'dtype') and np.issubdtype(X.dtype, np.float):\n"
     ]
    }
   ],
   "source": [
    "#将文本中的词语转换为词频矩阵 矩阵元素a[i][j] 表示j词在i类文本下的词频\n",
    "vectorizer = TfidfVectorizer(sublinear_tf=True, max_df=0.5)\n",
    "#统计每个词语的tf-idf权值\n",
    "transformer = TfidfTransformer()\n",
    "# 第一个fit_transform是计算tf-idf 第二个fit_transform是将文本转为词频矩阵\n",
    "tfidf = transformer.fit_transform(vectorizer.fit_transform(sentences))\n",
    "# 获取词袋模型中的所有词语\n",
    "word = vectorizer.get_feature_names()\n",
    "# 将tf-idf矩阵抽取出来，元素w[i][j]表示j词在i类文本中的tf-idf权重\n",
    "weight = tfidf.toarray()\n",
    "#查看特征大小\n",
    "print ('Features length: ' + str(len(word)))"
   ]
  },
  {
   "cell_type": "code",
   "execution_count": 12,
   "metadata": {},
   "outputs": [
    {
     "data": {
      "text/plain": [
       "<1722x387 sparse matrix of type '<class 'numpy.float64'>'\n",
       "\twith 6870 stored elements in Compressed Sparse Row format>"
      ]
     },
     "execution_count": 12,
     "metadata": {},
     "output_type": "execute_result"
    }
   ],
   "source": [
    "tfidf"
   ]
  },
  {
   "cell_type": "code",
   "execution_count": 16,
   "metadata": {
    "scrolled": true
   },
   "outputs": [
    {
     "data": {
      "text/plain": [
       "array([[0., 0., 0., ..., 0., 0., 0.],\n",
       "       [0., 0., 0., ..., 0., 0., 0.],\n",
       "       [0., 0., 0., ..., 0., 0., 0.],\n",
       "       ...,\n",
       "       [0., 0., 0., ..., 0., 0., 0.],\n",
       "       [0., 0., 0., ..., 0., 0., 0.],\n",
       "       [0., 0., 0., ..., 0., 0., 0.]])"
      ]
     },
     "execution_count": 16,
     "metadata": {},
     "output_type": "execute_result"
    }
   ],
   "source": [
    "weight"
   ]
  },
  {
   "cell_type": "code",
   "execution_count": 17,
   "metadata": {},
   "outputs": [
    {
     "data": {
      "text/plain": [
       "['52',\n",
       " 'q5',\n",
       " '一人',\n",
       " '一人伤',\n",
       " '一会儿',\n",
       " '一名',\n",
       " '一楼',\n",
       " '一辆',\n",
       " '丈夫',\n",
       " '上址',\n",
       " '不上',\n",
       " '不倒翁',\n",
       " '不明',\n",
       " '不清',\n",
       " '不用',\n",
       " '不肯',\n",
       " '不行',\n",
       " '不见',\n",
       " '不让',\n",
       " '不详',\n",
       " '不通',\n",
       " '不需',\n",
       " '东西',\n",
       " '中断',\n",
       " '中有',\n",
       " '中称',\n",
       " '丰路',\n",
       " '争吵',\n",
       " '事情',\n",
       " '亚美尼亚人',\n",
       " '亲戚',\n",
       " '人代报',\n",
       " '人伤',\n",
       " '人借',\n",
       " '人手',\n",
       " '人无事',\n",
       " '人无伤',\n",
       " '人未伤',\n",
       " '人称',\n",
       " '人系',\n",
       " '人脚',\n",
       " '代报',\n",
       " '伤及',\n",
       " '住户',\n",
       " '保安',\n",
       " '做好',\n",
       " '催问',\n",
       " '儿子',\n",
       " '儿称',\n",
       " '充电器',\n",
       " '公交车站',\n",
       " '公分',\n",
       " '关在',\n",
       " '关机',\n",
       " '其称',\n",
       " '其近',\n",
       " '具体地址',\n",
       " '冲突',\n",
       " '凳子',\n",
       " '出血',\n",
       " '出轨',\n",
       " '分处',\n",
       " '分局',\n",
       " '分已',\n",
       " '分钟',\n",
       " '刚刚',\n",
       " '前妻',\n",
       " '剪刀',\n",
       " '割伤',\n",
       " '区划',\n",
       " '医治',\n",
       " '医院',\n",
       " '十一',\n",
       " '卧室',\n",
       " '卫生局',\n",
       " '去过',\n",
       " '又称',\n",
       " '反打',\n",
       " '反锁',\n",
       " '发生',\n",
       " '受伤',\n",
       " '变更',\n",
       " '口角',\n",
       " '后往',\n",
       " '告知',\n",
       " '咬伤',\n",
       " '咱不需',\n",
       " '喉咙',\n",
       " '喊救命',\n",
       " '嘴唇',\n",
       " '回到',\n",
       " '回去',\n",
       " '回家',\n",
       " '在场',\n",
       " '在家',\n",
       " '地上',\n",
       " '地址',\n",
       " '坐在',\n",
       " '处置',\n",
       " '处警',\n",
       " '外伤',\n",
       " '外国人',\n",
       " '外面',\n",
       " '多岁',\n",
       " '大碍',\n",
       " '夫妇',\n",
       " '夫妻',\n",
       " '头上',\n",
       " '头晕',\n",
       " '头痛',\n",
       " '头部',\n",
       " '奥迪',\n",
       " '女儿',\n",
       " '妇女',\n",
       " '妈妈',\n",
       " '妹妹',\n",
       " '妻子',\n",
       " '威胁',\n",
       " '婚外情',\n",
       " '婴儿',\n",
       " '媳妇',\n",
       " '子要',\n",
       " '孕妇',\n",
       " '孙女',\n",
       " '孤老',\n",
       " '孩子',\n",
       " '定位',\n",
       " '家中',\n",
       " '家庭',\n",
       " '家庭暴力',\n",
       " '家暴',\n",
       " '家门',\n",
       " '对象',\n",
       " '将门',\n",
       " '小区',\n",
       " '小姑',\n",
       " '小孩',\n",
       " '尾号',\n",
       " '居委',\n",
       " '居委会',\n",
       " '居民',\n",
       " '工作',\n",
       " '工作人员',\n",
       " '工具',\n",
       " '工号',\n",
       " '已处',\n",
       " '并称',\n",
       " '座机',\n",
       " '开门',\n",
       " '异地',\n",
       " '引发',\n",
       " '当事人',\n",
       " '徒手',\n",
       " '得知',\n",
       " '必备',\n",
       " '怀孕',\n",
       " '急救车',\n",
       " '情况',\n",
       " '情况不明',\n",
       " '情绪',\n",
       " '情节',\n",
       " '房子',\n",
       " '手上',\n",
       " '手伤',\n",
       " '手持',\n",
       " '手指',\n",
       " '手推',\n",
       " '手机',\n",
       " '手机号',\n",
       " '手痛',\n",
       " '手部',\n",
       " '打人',\n",
       " '打伤',\n",
       " '打倒',\n",
       " '打其',\n",
       " '打打',\n",
       " '打架',\n",
       " '打死',\n",
       " '打电话',\n",
       " '打耳光',\n",
       " '扫帚',\n",
       " '扬言',\n",
       " '抓伤',\n",
       " '抢过来',\n",
       " '担子',\n",
       " '担心',\n",
       " '拖鞋',\n",
       " '拳头',\n",
       " '拿到',\n",
       " '拿尺',\n",
       " '拿称',\n",
       " '拿长',\n",
       " '拿鞋',\n",
       " '持刀',\n",
       " '持械',\n",
       " '持续',\n",
       " '持饭',\n",
       " '接到',\n",
       " '接听',\n",
       " '接电话',\n",
       " '措施',\n",
       " '携带',\n",
       " '摔碗',\n",
       " '放下',\n",
       " '救命',\n",
       " '救护',\n",
       " '救护车',\n",
       " '断了腿',\n",
       " '无人',\n",
       " '无需',\n",
       " '早上',\n",
       " '昨天',\n",
       " '暂时',\n",
       " '有人',\n",
       " '有伤',\n",
       " '有刀',\n",
       " '木制',\n",
       " '木棍',\n",
       " '杀人',\n",
       " '杆子',\n",
       " '来电',\n",
       " '来过',\n",
       " '松江',\n",
       " '板凳',\n",
       " '梅陇',\n",
       " '梯子',\n",
       " '棍子',\n",
       " '棒头',\n",
       " '棒子',\n",
       " '椅子',\n",
       " '楼上',\n",
       " '榔头',\n",
       " '此警',\n",
       " '武器',\n",
       " '武器装备',\n",
       " '残疾人',\n",
       " '母亲',\n",
       " '母子',\n",
       " '求助',\n",
       " '没事',\n",
       " '沪牌',\n",
       " '注意安全',\n",
       " '活动室',\n",
       " '派出所',\n",
       " '流血',\n",
       " '浑身',\n",
       " '激动',\n",
       " '烟缸',\n",
       " '烧纸',\n",
       " '爬不起来',\n",
       " '父亲',\n",
       " '父女',\n",
       " '父子',\n",
       " '牙齿',\n",
       " '物业公司',\n",
       " '物品',\n",
       " '玩具',\n",
       " '现人',\n",
       " '现其',\n",
       " '现场',\n",
       " '现已',\n",
       " '现称',\n",
       " '现跑',\n",
       " '玻璃',\n",
       " '瓶子',\n",
       " '用碗',\n",
       " '用脚',\n",
       " '用针',\n",
       " '电告',\n",
       " '电线',\n",
       " '电视机',\n",
       " '电话',\n",
       " '疑似',\n",
       " '疾病',\n",
       " '病人',\n",
       " '皮带',\n",
       " '盒子',\n",
       " '相关',\n",
       " '看不见',\n",
       " '眼睛',\n",
       " '矛盾',\n",
       " '石英',\n",
       " '砍刀',\n",
       " '砸坏',\n",
       " '确认',\n",
       " '离去',\n",
       " '离婚',\n",
       " '离开',\n",
       " '称其',\n",
       " '称现',\n",
       " '称要',\n",
       " '稍后',\n",
       " '窗口',\n",
       " '第三者',\n",
       " '等候',\n",
       " '等同',\n",
       " '筷子',\n",
       " '精神',\n",
       " '精神病',\n",
       " '纠纷',\n",
       " '经济纠纷',\n",
       " '翟路',\n",
       " '翟路纪',\n",
       " '老人',\n",
       " '老伴',\n",
       " '老公',\n",
       " '老北',\n",
       " '老大爷',\n",
       " '老太',\n",
       " '老太太',\n",
       " '老头',\n",
       " '老奶奶',\n",
       " '老婆',\n",
       " '老年',\n",
       " '老年痴呆',\n",
       " '联系电话',\n",
       " '肋骨',\n",
       " '肯德基',\n",
       " '脖子',\n",
       " '脚踢',\n",
       " '脸盆',\n",
       " '脸部',\n",
       " '自动',\n",
       " '自残',\n",
       " '自称',\n",
       " '自行',\n",
       " '致电',\n",
       " '菜刀',\n",
       " '虐待',\n",
       " '虬泾路',\n",
       " '衣服',\n",
       " '衣架',\n",
       " '补充',\n",
       " '装备',\n",
       " '装机',\n",
       " '解决',\n",
       " '解释',\n",
       " '警卫室',\n",
       " '警号',\n",
       " '警察',\n",
       " '设备',\n",
       " '询问',\n",
       " '该户',\n",
       " '赌博',\n",
       " '走后',\n",
       " '赶出来',\n",
       " '起不来',\n",
       " '起因',\n",
       " '路人报',\n",
       " '路边',\n",
       " '路近',\n",
       " '踢门',\n",
       " '身上',\n",
       " '轻伤',\n",
       " '轻微伤',\n",
       " '辛耕路',\n",
       " '过场',\n",
       " '还称',\n",
       " '追其',\n",
       " '送来',\n",
       " '逃出来',\n",
       " '逃逸',\n",
       " '通知',\n",
       " '通话',\n",
       " '邻居',\n",
       " '酒瓶',\n",
       " '醉酒',\n",
       " '钥桥',\n",
       " '铁棍',\n",
       " '银行卡',\n",
       " '锁事',\n",
       " '门卫',\n",
       " '门卫室',\n",
       " '门口',\n",
       " '门外',\n",
       " '闵行',\n",
       " '防护',\n",
       " '阿姨',\n",
       " '隔壁',\n",
       " '鞋子',\n",
       " '项链',\n",
       " '验伤',\n",
       " '骨折',\n",
       " '黑色',\n",
       " '鼻子',\n",
       " '龙州',\n",
       " '龙舟']"
      ]
     },
     "execution_count": 17,
     "metadata": {},
     "output_type": "execute_result"
    }
   ],
   "source": [
    "word"
   ]
  },
  {
   "cell_type": "code",
   "execution_count": 18,
   "metadata": {
    "collapsed": true
   },
   "outputs": [],
   "source": [
    "numClass=4 #聚类分几簇\n",
    "clf = KMeans(n_clusters=numClass, max_iter=10000, init=\"k-means++\", tol=1e-6)  #这里也可以选择随机初始化init=\"random\"\n",
    "pca = PCA(n_components=10)  # 降维\n",
    "TnewData = pca.fit_transform(weight)  # 载入N维\n",
    "s = clf.fit(TnewData)"
   ]
  },
  {
   "cell_type": "code",
   "execution_count": 19,
   "metadata": {
    "collapsed": true
   },
   "outputs": [],
   "source": [
    "def plot_cluster(result,newData,numClass):\n",
    "    plt.figure(2)\n",
    "    Lab = [[] for i in range(numClass)]\n",
    "    index = 0\n",
    "    for labi in result:\n",
    "        Lab[labi].append(index)\n",
    "        index += 1\n",
    "    color = ['oy', 'ob', 'og', 'cs', 'ms', 'bs', 'ks', 'ys', 'yv', 'mv', 'bv', 'kv', 'gv', 'y^', 'm^', 'b^', 'k^',\n",
    "             'g^'] * 3 \n",
    "    for i in range(numClass):\n",
    "        x1 = []\n",
    "        y1 = []\n",
    "        for ind1 in newData[Lab[i]]:\n",
    "            # print ind1\n",
    "            try:\n",
    "                y1.append(ind1[1])\n",
    "                x1.append(ind1[0])\n",
    "            except:\n",
    "                pass\n",
    "        plt.plot(x1, y1, color[i])\n",
    "\n",
    "    #绘制初始中心点\n",
    "    x1 = []\n",
    "    y1 = []\n",
    "    for ind1 in clf.cluster_centers_:\n",
    "        try:\n",
    "            y1.append(ind1[1])\n",
    "            x1.append(ind1[0])\n",
    "        except:\n",
    "            pass\n",
    "    plt.plot(x1, y1, \"rv\") #绘制中心\n",
    "    plt.show()"
   ]
  },
  {
   "cell_type": "code",
   "execution_count": 20,
   "metadata": {},
   "outputs": [
    {
     "data": {
      "image/png": "[encoded data removed]",
      "text/plain": [
       "<Figure size 432x288 with 1 Axes>"
      ]
     },
     "metadata": {},
     "output_type": "display_data"
    }
   ],
   "source": [
    "pca = PCA(n_components=2)  # 输出两维\n",
    "newData = pca.fit_transform(weight)  # 载入N维\n",
    "result = list(clf.predict(TnewData))\n",
    "plot_cluster(result,newData,numClass)"
   ]
  },
  {
   "cell_type": "code",
   "execution_count": 21,
   "metadata": {
    "collapsed": true
   },
   "outputs": [],
   "source": [
    "from sklearn.decomposition import PCA\n",
    "from sklearn.manifold import TSNE\n"
   ]
  },
  {
   "cell_type": "code",
   "execution_count": 22,
   "metadata": {},
   "outputs": [
    {
     "data": {
      "image/png": "[encoded data removed]",
      "text/plain": [
       "<Figure size 432x288 with 1 Axes>"
      ]
     },
     "metadata": {},
     "output_type": "display_data"
    }
   ],
   "source": [
    "from sklearn.manifold import TSNE\n",
    "ts =TSNE(2)\n",
    "newData = ts.fit_transform(weight)\n",
    "result = list(clf.predict(TnewData))\n",
    "plot_cluster(result,newData,numClass)"
   ]
  },
  {
   "cell_type": "markdown",
   "metadata": {},
   "source": [
    "为了更好的表达和获取更具有代表性的信息，在展示（可视化）高维数据时，更为一般的处理，常常先用 PCA 进行降维，再使用 TSNE："
   ]
  },
  {
   "cell_type": "code",
   "execution_count": 23,
   "metadata": {},
   "outputs": [
    {
     "data": {
      "image/png": "[encoded data removed]",
      "text/plain": [
       "<Figure size 432x288 with 1 Axes>"
      ]
     },
     "metadata": {},
     "output_type": "display_data"
    }
   ],
   "source": [
    "from sklearn.manifold import TSNE\n",
    "newData = PCA(n_components=4).fit_transform(weight)  # 载入N维\n",
    "newData =TSNE(2).fit_transform(newData)\n",
    "result = list(clf.predict(TnewData))\n",
    "plot_cluster(result,newData,numClass)"
   ]
  },
  {
   "cell_type": "markdown",
   "metadata": {},
   "source": [
    "总结：\n",
    "1、特征向量的构建，除了词袋模型，可以考虑使用 word2vec 和 doc2vec 等；\n",
    "2、模型上可以采用基于密度的 DBSCAN、层次聚类等算法。"
   ]
  },
  {
   "cell_type": "code",
   "execution_count": null,
   "metadata": {
    "collapsed": true
   },
   "outputs": [],
   "source": []
  }
 ],
 "metadata": {
  "kernelspec": {
   "display_name": "Python 3",
   "language": "python",
   "name": "python3"
  },
  "language_info": {
   "codemirror_mode": {
    "name": "ipython",
    "version": 3
   },
   "file_extension": ".py",
   "mimetype": "text/x-python",
   "name": "python",
   "nbconvert_exporter": "python",
   "pygments_lexer": "ipython3",
   "version": "3.6.8"
  }
 },
 "nbformat": 4,
 "nbformat_minor": 2
}
