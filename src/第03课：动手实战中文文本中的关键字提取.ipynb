{
 "cells": [
  {
   "cell_type": "code",
   "execution_count": 1,
   "metadata": {
    "collapsed": true
   },
   "outputs": [],
   "source": [
    "# 第03课：动手实战中文文本中的关键字提取"
   ]
  },
  {
   "cell_type": "markdown",
   "metadata": {
    "collapsed": true
   },
   "source": [
    "TF-IDF 的主要思想就是：如果某个词在一篇文档中出现的频率高，也即 TF 高；并且在语料库中其他文档中很少出现，即 DF 低，也即 IDF 高，则认为这个词具有很好的类别区分能力。"
   ]
  },
  {
   "cell_type": "markdown",
   "metadata": {},
   "source": [
    "TF-IDF 是 Term Frequency - Inverse Document Frequency 的简写\n",
    "TF 为词频（Term Frequency）\n",
    "IDF 为逆文档频率（Inverse Document Frequency），表示语料库中包含词 t 的文档的数目的倒数"
   ]
  },
  {
   "cell_type": "markdown",
   "metadata": {},
   "source": [
    "TF-IDF 倾向于过滤掉常见的词语，保留重要的词语"
   ]
  },
  {
   "cell_type": "markdown",
   "metadata": {},
   "source": [
    "jieba.analyse.extract_tags(sentence, topK=20, withWeight=False, allowPOS=())"
   ]
  },
  {
   "cell_type": "markdown",
   "metadata": {},
   "source": [
    "sentence：待提取的文本语料；\n",
    "\n",
    "topK：返回 TF/IDF 权重最大的关键词个数，默认值为 20；\n",
    "\n",
    "withWeight：是否需要返回关键词权重值，默认值为 False；\n",
    "\n",
    "allowPOS：仅包括指定词性的词，默认值为空，即不筛选。"
   ]
  },
  {
   "cell_type": "code",
   "execution_count": 2,
   "metadata": {},
   "outputs": [
    {
     "name": "stderr",
     "output_type": "stream",
     "text": [
      "Building prefix dict from the default dictionary ...\n",
      "Dumping model to file cache /var/folders/yw/k7z_d_3567g16ss9plk47x9w0000gn/T/jieba.cache\n",
      "Loading model cost 0.788 seconds.\n",
      "Prefix dict has been built succesfully.\n"
     ]
    },
    {
     "name": "stdout",
     "output_type": "stream",
     "text": [
      "人工智能  智能  2017  机器  不同  人类  科学  模拟  一门  技术  计算机  研究  工作  Artificial  Intelligence  AI  图像识别  12  复杂  流行语\n"
     ]
    }
   ],
   "source": [
    "import jieba.analyse\n",
    "sentence  = \"人工智能（Artificial Intelligence），英文缩写为AI。它是研究、开发用于模拟、延伸和扩展人的智能的理论、方法、技术及应用系统的一门新的技术科学。人工智能是计算机科学的一个分支，它企图了解智能的实质，并生产出一种新的能以人类智能相似的方式做出反应的智能机器，该领域的研究包括机器人、语言识别、图像识别、自然语言处理和专家系统等。人工智能从诞生以来，理论和技术日益成熟，应用领域也不断扩大，可以设想，未来人工智能带来的科技产品，将会是人类智慧的“容器”。人工智能可以对人的意识、思维的信息过程的模拟。人工智能不是人的智能，但能像人那样思考、也可能超过人的智能。人工智能是一门极富挑战性的科学，从事这项工作的人必须懂得计算机知识，心理学和哲学。人工智能是包括十分广泛的科学，它由不同的领域组成，如机器学习，计算机视觉等等，总的说来，人工智能研究的一个主要目标是使机器能够胜任一些通常需要人类智能才能完成的复杂工作。但不同的时代、不同的人对这种“复杂工作”的理解是不同的。2017年12月，人工智能入选“2017年度中国媒体十大流行语”。\"\n",
    "keywords = \"  \".join(jieba.analyse.extract_tags(sentence , topK=20, withWeight=False, allowPOS=()))\n",
    "print(keywords)"
   ]
  },
  {
   "cell_type": "code",
   "execution_count": 3,
   "metadata": {},
   "outputs": [
    {
     "name": "stdout",
     "output_type": "stream",
     "text": [
      "[('人工智能', 0.9750542675762887), ('智能', 0.5167124540885567), ('机器', 0.20540911929525774), ('人类', 0.17414426566082475), ('科学', 0.17250169374402063), ('模拟', 0.15723537382948452), ('技术', 0.14596259315164947), ('计算机', 0.14030483362639176), ('图像识别', 0.12324502580309278), ('流行语', 0.11242211730309279)]\n"
     ]
    }
   ],
   "source": [
    "keywords =(jieba.analyse.extract_tags(sentence , topK=10, withWeight=True, allowPOS=(['n','v'])))\n",
    "print(keywords)"
   ]
  },
  {
   "cell_type": "markdown",
   "metadata": {},
   "source": [
    "TextRank 是由 PageRank 改进而来，核心思想将文本中的词看作图中的节点，通过边相互连接，不同的节点会有不同的权重，权重高的节点可以作为关键词"
   ]
  },
  {
   "cell_type": "code",
   "execution_count": 4,
   "metadata": {},
   "outputs": [
    {
     "name": "stdout",
     "output_type": "stream",
     "text": [
      "智能  人工智能  机器  人类  技术  模拟  包括  科学  理论  计算机  领域  年度  需要  心理学  信息  语言  识别  带来  过程  延伸\n"
     ]
    }
   ],
   "source": [
    "result = \"  \".join(jieba.analyse.textrank(sentence, topK=20, withWeight=False, allowPOS=('n','v')))\n",
    "print(result)"
   ]
  },
  {
   "cell_type": "markdown",
   "metadata": {},
   "source": [
    "通过 Gensim 库完成基于 LDA 的关键字提取。整个过程的步骤为：文件加载 -> jieba 分词 -> 去停用词 -> 构建词袋模型 -> LDA 模型训练 -> 结果可视化。"
   ]
  },
  {
   "cell_type": "code",
   "execution_count": 9,
   "metadata": {},
   "outputs": [
    {
     "name": "stdout",
     "output_type": "stream",
     "text": [
      "0.019*\"汽车\" + 0.013*\"中国\" + 0.009*\"企业\" + 0.008*\"召回\" + 0.008*\"车展\"\n",
      "0.021*\"网约车\" + 0.019*\"司机\" + 0.017*\"车辆\" + 0.012*\"里程\" + 0.011*\"出租车\" + 0.009*\"平台\" + 0.008*\"公里\" + 0.007*\"驾驶员\"\n",
      "0.019*\"汽车\" + 0.013*\"中国\" + 0.009*\"企业\" + 0.008*\"召回\" + 0.008*\"车展\" + 0.007*\"一路\" + 0.006*\"座椅\" + 0.006*\"一带\"\n",
      "0.017*\"汽车\" + 0.011*\"技术\" + 0.010*\"智能\" + 0.010*\"设计\" + 0.010*\"系统\" + 0.009*\"驾驶\" + 0.007*\"体验\" + 0.007*\"车\"\n",
      "0.029*\"品牌\" + 0.023*\"中国\" + 0.022*\"车型\" + 0.018*\"市场\" + 0.017*\"SUV\" + 0.014*\"自主\" + 0.009*\"产品\" + 0.007*\"全新\"\n",
      "0.019*\"易到\" + 0.018*\"用户\" + 0.012*\"服务\" + 0.008*\"租车\" + 0.007*\"专车\" + 0.007*\"车辆\" + 0.007*\"出行\" + 0.007*\"神州\"\n",
      "0.030*\"汽车\" + 0.018*\"市场\" + 0.017*\"品牌\" + 0.010*\"销量\" + 0.008*\"销售\" + 0.008*\"新\" + 0.007*\"经销商\" + 0.007*\"发展\"\n",
      "0.019*\"增长\" + 0.017*\"同比\" + 0.015*\"万辆\" + 0.012*\"数据\" + 0.011*\"充电\" + 0.009*\"销量\" + 0.009*\"汽车\" + 0.009*\"显示\"\n",
      "0.026*\"汽车\" + 0.014*\"发展\" + 0.013*\"新能源\" + 0.009*\"停车\" + 0.009*\"企业\" + 0.008*\"中国\" + 0.008*\"产能\" + 0.007*\"汽车产业\"\n",
      "0.009*\"中\" + 0.006*\"占\" + 0.006*\"车辆\" + 0.006*\"排放\" + 0.005*\"检测\" + 0.005*\"销售\" + 0.005*\"尾气\" + 0.004*\"经济网\"\n",
      "0.059*\"汽车\" + 0.021*\"新能源\" + 0.021*\"中国\" + 0.010*\"发展\" + 0.010*\"二手车\" + 0.009*\"销售\" + 0.008*\"奥迪\" + 0.008*\"市场\"\n"
     ]
    }
   ],
   "source": [
    "#引入库文件\n",
    "import jieba.analyse as analyse\n",
    "import jieba\n",
    "import pandas as pd\n",
    "from gensim import corpora, models, similarities\n",
    "import gensim\n",
    "import numpy as np\n",
    "import matplotlib.pyplot as plt\n",
    "%matplotlib inline\n",
    "#设置文件路径\n",
    "dir = \"../data/03/\"\n",
    "file_desc = \"\".join([dir,'car.csv'])\n",
    "stop_words = \"\".join([dir,'stopwords.txt'])\n",
    "#定义停用词\n",
    "stopwords=pd.read_csv(stop_words,index_col=False,quoting=3,sep=\"\\t\",names=['stopword'], encoding='utf-8')\n",
    "stopwords=stopwords['stopword'].values\n",
    "#加载语料\n",
    "df = pd.read_csv(file_desc, encoding='utf-8')\n",
    "#删除nan行\n",
    "df.dropna(inplace=True)\n",
    "lines=df.content.values.tolist()\n",
    "#开始分词\n",
    "sentences=[]\n",
    "for line in lines:\n",
    "    try:\n",
    "        segs=jieba.lcut(line)\n",
    "        segs = [v for v in segs if not str(v).isdigit()]#去数字\n",
    "        segs = list(filter(lambda x:x.strip(), segs))   #去左右空格\n",
    "        segs = list(filter(lambda x:x not in stopwords, segs)) #去掉停用词\n",
    "        sentences.append(segs)\n",
    "    except Exception:\n",
    "        print(line)\n",
    "        continue\n",
    "#构建词袋模型\n",
    "dictionary = corpora.Dictionary(sentences)\n",
    "corpus = [dictionary.doc2bow(sentence) for sentence in sentences]\n",
    "#lda模型，num_topics是主题的个数，这里定义了5个\n",
    "lda = gensim.models.ldamodel.LdaModel(corpus=corpus, id2word=dictionary, num_topics=10)\n",
    "#我们查一下第1号分类，其中最常出现的5个词是：\n",
    "print(lda.print_topic(1, topn=5))\n",
    "#我们打印所有5个主题，每个主题显示8个词\n",
    "for topic in lda.print_topics(num_topics=10, num_words=8):\n",
    "    print(topic[1])"
   ]
  },
  {
   "cell_type": "code",
   "execution_count": 11,
   "metadata": {},
   "outputs": [
    {
     "data": {
      "text/plain": [
       "'一审'"
      ]
     },
     "execution_count": 11,
     "metadata": {},
     "output_type": "execute_result"
    }
   ],
   "source": [
    "dictionary[0]"
   ]
  },
  {
   "cell_type": "code",
   "execution_count": 12,
   "metadata": {},
   "outputs": [
    {
     "name": "stderr",
     "output_type": "stream",
     "text": [
      "/Users/zhangjianfeng/anaconda3/lib/python3.6/site-packages/matplotlib/font_manager.py:1328: UserWarning: findfont: Font family ['sans-serif'] not found. Falling back to DejaVu Sans\n",
      "  (prop.get_family(), self.defaultFamily[fontext]))\n"
     ]
    },
    {
     "data": {
      "image/png": "[encoded data removed]",
      "text/plain": [
       "<Figure size 432x288 with 10 Axes>"
      ]
     },
     "metadata": {},
     "output_type": "display_data"
    }
   ],
   "source": [
    "#显示中文matplotlib\n",
    "plt.rcParams['font.sans-serif'] = [u'SimHei']\n",
    "plt.rcParams['axes.unicode_minus'] = False\n",
    "# 在可视化部分，我们首先画出了九个主题的7个词的概率分布图\n",
    "num_show_term = 8 # 每个主题下显示几个词\n",
    "num_topics  = 10  \n",
    "for i, k in enumerate(range(num_topics)):\n",
    "    ax = plt.subplot(2, 5, i+1)\n",
    "    item_dis_all = lda.get_topic_terms(topicid=k)\n",
    "    item_dis = np.array(item_dis_all[:num_show_term])\n",
    "    ax.plot(range(num_show_term), item_dis[:, 1], 'b*')\n",
    "    item_word_id = item_dis[:, 0].astype(np.int)\n",
    "    word = [dictionary.id2token[i] for i in item_word_id]\n",
    "    ax.set_ylabel(u\"概率\")\n",
    "    for j in range(num_show_term):\n",
    "        ax.text(j, item_dis[j, 1], word[j], bbox=dict(facecolor='green',alpha=0.1))\n",
    "plt.suptitle(u'9个主题及其7个主要词的概率', fontsize=18)\n",
    "plt.show()"
   ]
  },
  {
   "cell_type": "code",
   "execution_count": 13,
   "metadata": {},
   "outputs": [
    {
     "name": "stdout",
     "output_type": "stream",
     "text": [
      "[人工智能, 智能, 人类, 研究, 不同, 工作, 包括, 领域, 模拟, 理论, 技术, 新的, 门, 机器, 计算机, 科学, 入选, 复杂, AI, 12月]\n"
     ]
    }
   ],
   "source": [
    "from pyhanlp import *\n",
    "result = HanLP.extractKeyword(sentence, 20)\n",
    "print(result)"
   ]
  },
  {
   "cell_type": "code",
   "execution_count": null,
   "metadata": {
    "collapsed": true
   },
   "outputs": [],
   "source": []
  }
 ],
 "metadata": {
  "kernelspec": {
   "display_name": "Python 3",
   "language": "python",
   "name": "python3"
  },
  "language_info": {
   "codemirror_mode": {
    "name": "ipython",
    "version": 3
   },
   "file_extension": ".py",
   "mimetype": "text/x-python",
   "name": "python",
   "nbconvert_exporter": "python",
   "pygments_lexer": "ipython3",
   "version": "3.6.8"
  }
 },
 "nbformat": 4,
 "nbformat_minor": 2
}
